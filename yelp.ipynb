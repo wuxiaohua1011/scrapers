{
 "cells": [
  {
   "cell_type": "code",
   "execution_count": 15,
   "metadata": {},
   "outputs": [
    {
     "name": "stdout",
     "output_type": "stream",
     "text": [
      "Requirement already satisfied: pandas in /Users/michaelwu/opt/anaconda3/envs/yelp_crawler/lib/python3.10/site-packages (2.2.2)\n",
      "Requirement already satisfied: Unidecode in /Users/michaelwu/opt/anaconda3/envs/yelp_crawler/lib/python3.10/site-packages (1.3.8)\n",
      "Requirement already satisfied: bs4 in /Users/michaelwu/opt/anaconda3/envs/yelp_crawler/lib/python3.10/site-packages (0.0.2)\n",
      "Requirement already satisfied: numpy>=1.22.4 in /Users/michaelwu/opt/anaconda3/envs/yelp_crawler/lib/python3.10/site-packages (from pandas) (1.26.4)\n",
      "Requirement already satisfied: python-dateutil>=2.8.2 in /Users/michaelwu/opt/anaconda3/envs/yelp_crawler/lib/python3.10/site-packages (from pandas) (2.9.0)\n",
      "Requirement already satisfied: pytz>=2020.1 in /Users/michaelwu/opt/anaconda3/envs/yelp_crawler/lib/python3.10/site-packages (from pandas) (2024.1)\n",
      "Requirement already satisfied: tzdata>=2022.7 in /Users/michaelwu/opt/anaconda3/envs/yelp_crawler/lib/python3.10/site-packages (from pandas) (2024.1)\n",
      "Requirement already satisfied: beautifulsoup4 in /Users/michaelwu/opt/anaconda3/envs/yelp_crawler/lib/python3.10/site-packages (from bs4) (4.12.3)\n",
      "Requirement already satisfied: six>=1.5 in /Users/michaelwu/opt/anaconda3/envs/yelp_crawler/lib/python3.10/site-packages (from python-dateutil>=2.8.2->pandas) (1.16.0)\n",
      "Requirement already satisfied: soupsieve>1.2 in /Users/michaelwu/opt/anaconda3/envs/yelp_crawler/lib/python3.10/site-packages (from beautifulsoup4->bs4) (2.5)\n"
     ]
    }
   ],
   "source": [
    "# Imports for data management\n",
    "!pip install pandas Unidecode bs4\n",
    "import pandas as pd\n",
    "import json\n",
    "\n",
    "# Import for crawling and scraping\n",
    "import requests\n",
    "import time\n",
    "import random\n",
    "from bs4 import BeautifulSoup\n",
    "import re \n",
    "from urllib.parse import urlparse, unquote\n",
    "from typing import List \n",
    "from pathlib import Path \n"
   ]
  },
  {
   "cell_type": "code",
   "execution_count": 16,
   "metadata": {},
   "outputs": [],
   "source": [
    "def yelp_biz_urls(key_word, loc, num_results):\n",
    "    \"\"\"\n",
    "    Getting results from yelp\n",
    "    The output is a list of business urls\n",
    "    \"\"\"\n",
    "    tables = []\n",
    "    for i in range(0,num_results,10):\n",
    "        # rate limiting\n",
    "        time.sleep(random.randint(1, 2) * .931467298)\n",
    "\n",
    "        url = 'http://www.yelp.com/search?find_desc=%(key_word)s&find_loc=%(loc)s&start=%(num_results)s' % {'key_word':key_word,'loc':loc,'num_results':i}\n",
    "        print(f\"Iteration [{i}] - Searching for [{key_word} in [{loc}] with offset [{i}]. URL: [{url}]\")\n",
    "\n",
    "        page = requests.get(url)\n",
    "        # table = html.fromstring(unidecode.unidecode(page.content.decode('utf-8')))\n",
    "        soup = BeautifulSoup(page.content.decode('utf-8'), 'html.parser')\n",
    "        business_containers = soup.find_all(\"li\", class_=\"yelp-emotion-1iy1dwt\")\n",
    "        # Iterate over each container to extract business name and URL\n",
    "        for container in business_containers:\n",
    "            business_name_element = container.find(\"h3\", class_=\"yelp-emotion-i7hfd5\")\n",
    "            business_url_element = container.find(\"a\", class_=\"yelp-emotion-idvn5q\")\n",
    "\n",
    "            if business_name_element and business_url_element:\n",
    "                business_url = business_url_element[\"href\"]\n",
    "                prefix = \"https://www.yelp.com\"\n",
    "                tables.append(prefix+business_url)\n",
    "    print(f\"Found [{len(tables)}] businesses\")\n",
    "    return tables"
   ]
  },
  {
   "cell_type": "code",
   "execution_count": 17,
   "metadata": {},
   "outputs": [],
   "source": [
    "def get_yelp_biz_data(business_url) -> pd.DataFrame:\n",
    "    print(f\"Looking into [{business_url}]\")\n",
    "    page = requests.get(business_url)\n",
    "\n",
    "    soup = BeautifulSoup(page.content.decode('utf-8'), 'html.parser')\n",
    "    \n",
    "    business_name = \"\"\n",
    "    business_url = \"\"\n",
    "    phone_number = \"\"\n",
    "\n",
    "    try:\n",
    "        business_name = soup.find('h1', class_='yelp-emotion-sfde2o').text.strip()\n",
    "    except Exception as e:\n",
    "        print(f\"Unable to get business name, skipping... Error: {e}. [{business_url}]\")\n",
    "\n",
    "    containers = soup.find_all(\"section\", class_=\"yelp-emotion-7hi8nk\")\n",
    "    try:\n",
    "        for container in containers:\n",
    "            # Extracting business URL\n",
    "            if container.find('a', class_='yelp-emotion-33t6hm') != None:\n",
    "                raw_url = container.find('a', class_='yelp-emotion-33t6hm')['href']\n",
    "                parsed_url = urlparse(raw_url)\n",
    "                url_params = parsed_url.query.split('&')\n",
    "                for param in url_params:\n",
    "                    key, val = param.split(\"=\")\n",
    "                    if key == 'url':\n",
    "                        biz_url_encoded = val\n",
    "                        biz_url = unquote(biz_url_encoded)\n",
    "                        business_url = biz_url\n",
    "                        break \n",
    "    except Exception as e:\n",
    "        print(f\"Unable to get business url, skipping... Error: {e}. [{business_url}]\")\n",
    "        \n",
    "    # extracting phone number\n",
    "    try:\n",
    "        phone_number = soup.find('p', class_='yelp-emotion-1be33sw', string=re.compile(r'\\(\\d{3}\\) \\d{3}-\\d{4}')).text.strip()\n",
    "    except Exception as e:\n",
    "        print(f\"Unable to get phone number, skipping... Error: {e}. [{business_url}]\")\n",
    "    df = pd.DataFrame(columns=['business_name', 'business_url', 'phone_number'], data=[[business_name, business_url, phone_number]])\n",
    "\n",
    "    return df \n",
    "    \n"
   ]
  },
  {
   "cell_type": "code",
   "execution_count": 18,
   "metadata": {},
   "outputs": [],
   "source": [
    "def get_multi_business_data(urls: List[str]):\n",
    "    df = pd.DataFrame(columns=['business_name', 'business_url', 'phone_number'])\n",
    "    for url in urls:\n",
    "        row = get_yelp_biz_data(business_url=url)\n",
    "        df = pd.concat([row, df], ignore_index=True)\n",
    "    return df"
   ]
  },
  {
   "cell_type": "code",
   "execution_count": 19,
   "metadata": {},
   "outputs": [
    {
     "name": "stdout",
     "output_type": "stream",
     "text": [
      "Iteration [0] - Searching for [Security Camera Installation in [Los Angeles] with offset [0]. URL: [http://www.yelp.com/search?find_desc=Security Camera Installation&find_loc=Los Angeles&start=0]\n",
      "Found [10] businesses\n",
      "Sample: [https://www.yelp.com/biz/los-angeles-cctv-security-cameras-los-angeles-4?osq=Security+Camera+Installation&override_cta=Request+quote+%26+availability]\n"
     ]
    }
   ],
   "source": [
    "KEYWORD = 'Security Camera Installation'\n",
    "LOCATION = 'Los Angeles'\n",
    "NUM = 10\n",
    "data = yelp_biz_urls(key_word=KEYWORD, loc=LOCATION, num_results=NUM)\n",
    "if len(data) > 0:\n",
    "    print(f\"Sample: [{data[0]}]\")"
   ]
  },
  {
   "cell_type": "code",
   "execution_count": 20,
   "metadata": {},
   "outputs": [
    {
     "name": "stdout",
     "output_type": "stream",
     "text": [
      "Looking into [https://www.yelp.com/biz/los-angeles-cctv-security-cameras-los-angeles-4?osq=Security+Camera+Installation&override_cta=Request+quote+%26+availability]\n",
      "Looking into [https://www.yelp.com/biz/three-factor-security-cameras-installation-beverly-hills-2?osq=Security+Camera+Installation&override_cta=Request+quote+%26+availability]\n",
      "Looking into [https://www.yelp.com/biz/lion-security-and-locksmith-los-angeles?osq=Security+Camera+Installation&override_cta=Request+quote+%26+availability]\n",
      "Looking into [https://www.yelp.com/biz/david-av-installations-los-angeles?osq=Security+Camera+Installation&override_cta=Request+quote+%26+availability]\n",
      "Looking into [https://www.yelp.com/biz/security-camera-solutions-burbank-5?osq=Security+Camera+Installation&override_cta=Request+quote+%26+availability]\n",
      "Unable to get business url, skipping... Error: not enough values to unpack (expected 2, got 1). []\n",
      "Looking into [https://www.yelp.com/biz/tci-security-cameras-downey-4?osq=Security+Camera+Installation&override_cta=Request+quote+%26+availability]\n",
      "Looking into [https://www.yelp.com/biz/gbit-tech-los-angeles-2?osq=Security+Camera+Installation&override_cta=Request+quote+%26+availability]\n",
      "Looking into [https://www.yelp.com/biz/la-tech-guys-west-los-angeles?osq=Security+Camera+Installation&override_cta=Request+quote+%26+availability]\n",
      "Looking into [https://www.yelp.com/biz/los-angeles-security-cameras-los-angeles-2?osq=Security+Camera+Installation&override_cta=Request+quote+%26+availability]\n",
      "Unable to get business url, skipping... Error: not enough values to unpack (expected 2, got 1). []\n",
      "Looking into [https://www.yelp.com/biz/tv-hang-ups-tv-mounting-and-security-cameras-sherman-oaks-10?osq=Security+Camera+Installation&override_cta=Request+quote+%26+availability]\n"
     ]
    },
    {
     "data": {
      "text/html": [
       "<div>\n",
       "<style scoped>\n",
       "    .dataframe tbody tr th:only-of-type {\n",
       "        vertical-align: middle;\n",
       "    }\n",
       "\n",
       "    .dataframe tbody tr th {\n",
       "        vertical-align: top;\n",
       "    }\n",
       "\n",
       "    .dataframe thead th {\n",
       "        text-align: right;\n",
       "    }\n",
       "</style>\n",
       "<table border=\"1\" class=\"dataframe\">\n",
       "  <thead>\n",
       "    <tr style=\"text-align: right;\">\n",
       "      <th></th>\n",
       "      <th>business_name</th>\n",
       "      <th>business_url</th>\n",
       "      <th>phone_number</th>\n",
       "    </tr>\n",
       "  </thead>\n",
       "  <tbody>\n",
       "    <tr>\n",
       "      <th>0</th>\n",
       "      <td>TV Hang Ups, TV Mounting &amp; Security Cameras</td>\n",
       "      <td>http://www.tvhangups.com</td>\n",
       "      <td>(213) 640-7330</td>\n",
       "    </tr>\n",
       "    <tr>\n",
       "      <th>1</th>\n",
       "      <td>Los Angeles Security Cameras</td>\n",
       "      <td></td>\n",
       "      <td>(888) 518-6756</td>\n",
       "    </tr>\n",
       "    <tr>\n",
       "      <th>2</th>\n",
       "      <td>LA Tech Guys</td>\n",
       "      <td>http://Www.latechguyz.com</td>\n",
       "      <td>(310) 922-2208</td>\n",
       "    </tr>\n",
       "    <tr>\n",
       "      <th>3</th>\n",
       "      <td>Gbit Tech</td>\n",
       "      <td>http://www.GbitTech.net</td>\n",
       "      <td>(818) 809-6743</td>\n",
       "    </tr>\n",
       "    <tr>\n",
       "      <th>4</th>\n",
       "      <td>TCI Security Cameras</td>\n",
       "      <td>http://www.tci365.com</td>\n",
       "      <td>(562) 644-9339</td>\n",
       "    </tr>\n",
       "    <tr>\n",
       "      <th>5</th>\n",
       "      <td>Security Camera Solutions</td>\n",
       "      <td></td>\n",
       "      <td>(213) 218-6934</td>\n",
       "    </tr>\n",
       "    <tr>\n",
       "      <th>6</th>\n",
       "      <td>David AV Installations</td>\n",
       "      <td>http://davidavinstallations.com</td>\n",
       "      <td>(213) 652-2321</td>\n",
       "    </tr>\n",
       "    <tr>\n",
       "      <th>7</th>\n",
       "      <td>Lion Security and Locksmith</td>\n",
       "      <td>http://lionsecurityla.com</td>\n",
       "      <td>(310) 930-8843</td>\n",
       "    </tr>\n",
       "    <tr>\n",
       "      <th>8</th>\n",
       "      <td>Three Factor Security Cameras Installation</td>\n",
       "      <td>https://threefactorsecurity.com</td>\n",
       "      <td>(310) 289-4964</td>\n",
       "    </tr>\n",
       "    <tr>\n",
       "      <th>9</th>\n",
       "      <td>Los Angeles CCTV Security Cameras</td>\n",
       "      <td>http://cctv-losangeles.com</td>\n",
       "      <td>(877) 429-9988</td>\n",
       "    </tr>\n",
       "  </tbody>\n",
       "</table>\n",
       "</div>"
      ],
      "text/plain": [
       "                                 business_name  \\\n",
       "0  TV Hang Ups, TV Mounting & Security Cameras   \n",
       "1                 Los Angeles Security Cameras   \n",
       "2                                 LA Tech Guys   \n",
       "3                                    Gbit Tech   \n",
       "4                         TCI Security Cameras   \n",
       "5                    Security Camera Solutions   \n",
       "6                       David AV Installations   \n",
       "7                  Lion Security and Locksmith   \n",
       "8   Three Factor Security Cameras Installation   \n",
       "9            Los Angeles CCTV Security Cameras   \n",
       "\n",
       "                      business_url    phone_number  \n",
       "0         http://www.tvhangups.com  (213) 640-7330  \n",
       "1                                   (888) 518-6756  \n",
       "2        http://Www.latechguyz.com  (310) 922-2208  \n",
       "3          http://www.GbitTech.net  (818) 809-6743  \n",
       "4            http://www.tci365.com  (562) 644-9339  \n",
       "5                                   (213) 218-6934  \n",
       "6  http://davidavinstallations.com  (213) 652-2321  \n",
       "7        http://lionsecurityla.com  (310) 930-8843  \n",
       "8  https://threefactorsecurity.com  (310) 289-4964  \n",
       "9       http://cctv-losangeles.com  (877) 429-9988  "
      ]
     },
     "execution_count": 20,
     "metadata": {},
     "output_type": "execute_result"
    }
   ],
   "source": [
    "df = get_multi_business_data(urls=data)\n",
    "df"
   ]
  },
  {
   "cell_type": "code",
   "execution_count": 22,
   "metadata": {},
   "outputs": [
    {
     "name": "stdout",
     "output_type": "stream",
     "text": [
      "[10] Data saved to data/yelp.csv\n"
     ]
    }
   ],
   "source": [
    "output_file_path:Path = Path('./data/yelp.csv')\n",
    "if output_file_path.parent.exists() == False:\n",
    "    output_file_path.parent.mkdir(parents=True, exist_ok=True)    \n",
    "\n",
    "df.to_csv('data/yelp.csv', index=False)\n",
    "print(f\"[{len(df)}] Data saved to {output_file_path.as_posix()}\")"
   ]
  },
  {
   "cell_type": "code",
   "execution_count": null,
   "metadata": {},
   "outputs": [],
   "source": []
  },
  {
   "cell_type": "code",
   "execution_count": null,
   "metadata": {},
   "outputs": [],
   "source": []
  },
  {
   "cell_type": "code",
   "execution_count": null,
   "metadata": {},
   "outputs": [],
   "source": []
  },
  {
   "cell_type": "code",
   "execution_count": null,
   "metadata": {},
   "outputs": [],
   "source": []
  },
  {
   "cell_type": "code",
   "execution_count": null,
   "metadata": {},
   "outputs": [],
   "source": []
  }
 ],
 "metadata": {
  "kernelspec": {
   "display_name": "yelp_crawler",
   "language": "python",
   "name": "python3"
  },
  "language_info": {
   "codemirror_mode": {
    "name": "ipython",
    "version": 3
   },
   "file_extension": ".py",
   "mimetype": "text/x-python",
   "name": "python",
   "nbconvert_exporter": "python",
   "pygments_lexer": "ipython3",
   "version": "3.10.14"
  }
 },
 "nbformat": 4,
 "nbformat_minor": 2
}

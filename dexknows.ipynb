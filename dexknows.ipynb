{
 "cells": [
  {
   "cell_type": "code",
   "execution_count": 1,
   "metadata": {},
   "outputs": [
    {
     "name": "stdout",
     "output_type": "stream",
     "text": [
      "Requirement already satisfied: pandas in /Users/michaelwu/opt/anaconda3/envs/yelp_crawler/lib/python3.10/site-packages (2.2.2)\n",
      "Requirement already satisfied: Unidecode in /Users/michaelwu/opt/anaconda3/envs/yelp_crawler/lib/python3.10/site-packages (1.3.8)\n",
      "Requirement already satisfied: bs4 in /Users/michaelwu/opt/anaconda3/envs/yelp_crawler/lib/python3.10/site-packages (0.0.2)\n",
      "Requirement already satisfied: numpy>=1.22.4 in /Users/michaelwu/opt/anaconda3/envs/yelp_crawler/lib/python3.10/site-packages (from pandas) (1.26.4)\n",
      "Requirement already satisfied: python-dateutil>=2.8.2 in /Users/michaelwu/opt/anaconda3/envs/yelp_crawler/lib/python3.10/site-packages (from pandas) (2.9.0)\n",
      "Requirement already satisfied: pytz>=2020.1 in /Users/michaelwu/opt/anaconda3/envs/yelp_crawler/lib/python3.10/site-packages (from pandas) (2024.1)\n",
      "Requirement already satisfied: tzdata>=2022.7 in /Users/michaelwu/opt/anaconda3/envs/yelp_crawler/lib/python3.10/site-packages (from pandas) (2024.1)\n",
      "Requirement already satisfied: beautifulsoup4 in /Users/michaelwu/opt/anaconda3/envs/yelp_crawler/lib/python3.10/site-packages (from bs4) (4.12.3)\n",
      "Requirement already satisfied: six>=1.5 in /Users/michaelwu/opt/anaconda3/envs/yelp_crawler/lib/python3.10/site-packages (from python-dateutil>=2.8.2->pandas) (1.16.0)\n",
      "Requirement already satisfied: soupsieve>1.2 in /Users/michaelwu/opt/anaconda3/envs/yelp_crawler/lib/python3.10/site-packages (from beautifulsoup4->bs4) (2.5)\n"
     ]
    }
   ],
   "source": [
    "# Imports for data management\n",
    "!pip install pandas Unidecode bs4\n",
    "import pandas as pd\n",
    "import json\n",
    "\n",
    "# Import for crawling and scraping\n",
    "import requests\n",
    "import time\n",
    "import random\n",
    "from bs4 import BeautifulSoup\n",
    "import re \n",
    "from urllib.parse import urlparse, unquote\n",
    "from typing import List \n",
    "from pathlib import Path \n"
   ]
  },
  {
   "cell_type": "code",
   "execution_count": 10,
   "metadata": {},
   "outputs": [],
   "source": [
    "def get_biz_data(key_word, loc, page) -> pd.DataFrame:\n",
    "    url = f\"https://www.hotfrog.com/search/{loc}/{key_word}/{page}\"\n",
    "    print(f\"Scraping URL: {url}\")\n",
    "    page = requests.get(url)\n",
    "    soup = BeautifulSoup(page.content.decode('utf-8'), 'html.parser')\n",
    "    business_containers = soup.find_all(\"div\", class_=\"row\")\n",
    "    # Iterate over each container to extract business name and URL\n",
    "    data = []\n",
    "    for container in business_containers:\n",
    "        business_name = \"\"\n",
    "        phone_num = \"\"\n",
    "        addr = \"\"\n",
    "        business_url = \"\"\n",
    "\n",
    "        try:\n",
    "            business_name_element = container.find(\"h3\", class_=\"h6 mb-0\")\n",
    "            business_name = business_name_element.text\n",
    "        except Exception as e:\n",
    "            print(f\"Unable to parse Business Name. Error: {e}\")\n",
    "        \n",
    "        try:\n",
    "            phone_elem = container.find(\"div\", class_=\"w-100 small text-nowrap\")\n",
    "            phone_num_elem = phone_elem.find(\"a\")\n",
    "            phone_num = phone_num_elem.text\n",
    "\n",
    "        except Exception as e:\n",
    "            print(f\"Unable to parse Phone number. Error: {e}\")\n",
    "\n",
    "        try:    \n",
    "            business_url_container_elem = container.find(\"h3\", class_=\"h6 mb-0\")\n",
    "            business_url_elem = business_url_container_elem.find(\"a\")\n",
    "            business_url = business_url_elem.get(\"href\")\n",
    "            business_url = \"https://www.hotfrog.com\" + business_url\n",
    "        except Exception as e:\n",
    "            print(f\"Unable to parse business URL. Error: {e}\")\n",
    "        data.append([business_name, business_url, phone_num])\n",
    "\n",
    "    df = pd.DataFrame(columns=['business_name', 'business_url', 'phone_number'], data=data)\n",
    "\n",
    "    return df\n"
   ]
  },
  {
   "cell_type": "code",
   "execution_count": 11,
   "metadata": {},
   "outputs": [],
   "source": [
    "def get_multi_page_biz_data(key_word, loc, num_results) -> pd.DataFrame:\n",
    "    df = pd.DataFrame(columns=['business_name', 'business_url', 'phone_number'])\n",
    "    page_size = 20\n",
    "    while len(df) < num_results:\n",
    "        page_num = len(df) // page_size\n",
    "        print(f\"Scraping page {page_num}\")\n",
    "        page_data = get_biz_data(key_word, loc, page_num)\n",
    "        df = pd.concat([df, page_data], ignore_index=True)\n",
    "        \n",
    "\n",
    "        sleep_time = random.randint(1, 3)\n",
    "        time.sleep(sleep_time)\n",
    "    print(f\"Scraped {len(df)} results\")\n",
    "    return df "
   ]
  },
  {
   "cell_type": "code",
   "execution_count": 12,
   "metadata": {},
   "outputs": [
    {
     "name": "stdout",
     "output_type": "stream",
     "text": [
      "Scraping page 0\n",
      "Scraping URL: https://www.hotfrog.com/search/Washington/Security+Camera+Installation/0\n",
      "Unable to parse Business Name. Error: 'NoneType' object has no attribute 'text'\n",
      "Unable to parse Phone number. Error: 'NoneType' object has no attribute 'find'\n",
      "Unable to parse business URL. Error: 'NoneType' object has no attribute 'find'\n",
      "Unable to parse Business Name. Error: 'NoneType' object has no attribute 'text'\n",
      "Unable to parse Phone number. Error: 'NoneType' object has no attribute 'find'\n",
      "Unable to parse business URL. Error: 'NoneType' object has no attribute 'find'\n",
      "Unable to parse Business Name. Error: 'NoneType' object has no attribute 'text'\n",
      "Unable to parse Phone number. Error: 'NoneType' object has no attribute 'find'\n",
      "Unable to parse business URL. Error: 'NoneType' object has no attribute 'find'\n",
      "Scraped 16 results\n"
     ]
    },
    {
     "data": {
      "text/html": [
       "<div>\n",
       "<style scoped>\n",
       "    .dataframe tbody tr th:only-of-type {\n",
       "        vertical-align: middle;\n",
       "    }\n",
       "\n",
       "    .dataframe tbody tr th {\n",
       "        vertical-align: top;\n",
       "    }\n",
       "\n",
       "    .dataframe thead th {\n",
       "        text-align: right;\n",
       "    }\n",
       "</style>\n",
       "<table border=\"1\" class=\"dataframe\">\n",
       "  <thead>\n",
       "    <tr style=\"text-align: right;\">\n",
       "      <th></th>\n",
       "      <th>business_name</th>\n",
       "      <th>business_url</th>\n",
       "      <th>phone_number</th>\n",
       "    </tr>\n",
       "  </thead>\n",
       "  <tbody>\n",
       "    <tr>\n",
       "      <th>0</th>\n",
       "      <td></td>\n",
       "      <td></td>\n",
       "      <td></td>\n",
       "    </tr>\n",
       "    <tr>\n",
       "      <th>1</th>\n",
       "      <td>Sentry Installation, Inc.</td>\n",
       "      <td>https://www.hotfrog.com/company/10995534760058...</td>\n",
       "      <td>301 563-9314</td>\n",
       "    </tr>\n",
       "    <tr>\n",
       "      <th>2</th>\n",
       "      <td>Sentry Installation, Inc.</td>\n",
       "      <td>https://www.hotfrog.com/company/10995534760058...</td>\n",
       "      <td>301 563-9314</td>\n",
       "    </tr>\n",
       "    <tr>\n",
       "      <th>3</th>\n",
       "      <td>Global-Pro-Tech Security Systems</td>\n",
       "      <td>https://www.hotfrog.com/company/10994798459043...</td>\n",
       "      <td>301 502-5017</td>\n",
       "    </tr>\n",
       "    <tr>\n",
       "      <th>4</th>\n",
       "      <td>Fortress Security LLC</td>\n",
       "      <td>https://www.hotfrog.com/company/10995979568537...</td>\n",
       "      <td>502 797-6851</td>\n",
       "    </tr>\n",
       "  </tbody>\n",
       "</table>\n",
       "</div>"
      ],
      "text/plain": [
       "                      business_name  \\\n",
       "0                                     \n",
       "1         Sentry Installation, Inc.   \n",
       "2         Sentry Installation, Inc.   \n",
       "3  Global-Pro-Tech Security Systems   \n",
       "4             Fortress Security LLC   \n",
       "\n",
       "                                        business_url  phone_number  \n",
       "0                                                                   \n",
       "1  https://www.hotfrog.com/company/10995534760058...  301 563-9314  \n",
       "2  https://www.hotfrog.com/company/10995534760058...  301 563-9314  \n",
       "3  https://www.hotfrog.com/company/10994798459043...  301 502-5017  \n",
       "4  https://www.hotfrog.com/company/10995979568537...  502 797-6851  "
      ]
     },
     "execution_count": 12,
     "metadata": {},
     "output_type": "execute_result"
    }
   ],
   "source": [
    "key_word: str = \"Security+Camera+Installation\"\n",
    "loc:str = \"Washington\"\n",
    "num_results = 10\n",
    "\n",
    "df = get_multi_page_biz_data(key_word, loc, num_results)\n",
    "df.head()"
   ]
  },
  {
   "cell_type": "code",
   "execution_count": 13,
   "metadata": {},
   "outputs": [
    {
     "name": "stdout",
     "output_type": "stream",
     "text": [
      "[16] Data saved to data/dexknows.csv\n"
     ]
    }
   ],
   "source": [
    "output_file_path:Path = Path('./data/dexknows.csv')\n",
    "if output_file_path.parent.exists() == False:\n",
    "    output_file_path.parent.mkdir(parents=True, exist_ok=True)    \n",
    "\n",
    "df.to_csv(output_file_path.as_posix(), index=False)\n",
    "print(f\"[{len(df)}] Data saved to {output_file_path.as_posix()}\")"
   ]
  },
  {
   "cell_type": "code",
   "execution_count": null,
   "metadata": {},
   "outputs": [],
   "source": []
  },
  {
   "cell_type": "code",
   "execution_count": null,
   "metadata": {},
   "outputs": [],
   "source": []
  },
  {
   "cell_type": "code",
   "execution_count": null,
   "metadata": {},
   "outputs": [],
   "source": []
  },
  {
   "cell_type": "code",
   "execution_count": null,
   "metadata": {},
   "outputs": [],
   "source": []
  }
 ],
 "metadata": {
  "kernelspec": {
   "display_name": "yelp_crawler",
   "language": "python",
   "name": "python3"
  },
  "language_info": {
   "codemirror_mode": {
    "name": "ipython",
    "version": 3
   },
   "file_extension": ".py",
   "mimetype": "text/x-python",
   "name": "python",
   "nbconvert_exporter": "python",
   "pygments_lexer": "ipython3",
   "version": "3.10.14"
  }
 },
 "nbformat": 4,
 "nbformat_minor": 2
}

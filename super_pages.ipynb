{
 "cells": [
  {
   "cell_type": "code",
   "execution_count": 5,
   "metadata": {},
   "outputs": [
    {
     "name": "stdout",
     "output_type": "stream",
     "text": [
      "Requirement already satisfied: pandas in /Users/michaelwu/opt/anaconda3/envs/yelp_crawler/lib/python3.10/site-packages (2.2.2)\n",
      "Requirement already satisfied: Unidecode in /Users/michaelwu/opt/anaconda3/envs/yelp_crawler/lib/python3.10/site-packages (1.3.8)\n",
      "Requirement already satisfied: bs4 in /Users/michaelwu/opt/anaconda3/envs/yelp_crawler/lib/python3.10/site-packages (0.0.2)\n",
      "Requirement already satisfied: numpy>=1.22.4 in /Users/michaelwu/opt/anaconda3/envs/yelp_crawler/lib/python3.10/site-packages (from pandas) (1.26.4)\n",
      "Requirement already satisfied: python-dateutil>=2.8.2 in /Users/michaelwu/opt/anaconda3/envs/yelp_crawler/lib/python3.10/site-packages (from pandas) (2.9.0)\n",
      "Requirement already satisfied: pytz>=2020.1 in /Users/michaelwu/opt/anaconda3/envs/yelp_crawler/lib/python3.10/site-packages (from pandas) (2024.1)\n",
      "Requirement already satisfied: tzdata>=2022.7 in /Users/michaelwu/opt/anaconda3/envs/yelp_crawler/lib/python3.10/site-packages (from pandas) (2024.1)\n",
      "Requirement already satisfied: beautifulsoup4 in /Users/michaelwu/opt/anaconda3/envs/yelp_crawler/lib/python3.10/site-packages (from bs4) (4.12.3)\n",
      "Requirement already satisfied: six>=1.5 in /Users/michaelwu/opt/anaconda3/envs/yelp_crawler/lib/python3.10/site-packages (from python-dateutil>=2.8.2->pandas) (1.16.0)\n",
      "Requirement already satisfied: soupsieve>1.2 in /Users/michaelwu/opt/anaconda3/envs/yelp_crawler/lib/python3.10/site-packages (from beautifulsoup4->bs4) (2.5)\n"
     ]
    }
   ],
   "source": [
    "# Imports for data management\n",
    "!pip install pandas Unidecode bs4\n",
    "import pandas as pd\n",
    "import json\n",
    "\n",
    "# Import for crawling and scraping\n",
    "import requests\n",
    "import time\n",
    "import random\n",
    "from bs4 import BeautifulSoup\n",
    "import re \n",
    "from urllib.parse import urlparse, unquote\n",
    "from typing import List \n",
    "from pathlib import Path \n"
   ]
  },
  {
   "cell_type": "code",
   "execution_count": 9,
   "metadata": {},
   "outputs": [],
   "source": [
    "def get_biz_data(key_word, loc, page) -> pd.DataFrame:\n",
    "    url = f\"https://www.superpages.com/search?search_terms={key_word}&geo_location_terms={loc}&page={page}\"\n",
    "    print(f\"Scraping URL: {url}\")\n",
    "    page = requests.get(url)\n",
    "    # table = html.fromstring(unidecode.unidecode(page.content.decode('utf-8')))\n",
    "    soup = BeautifulSoup(page.content.decode('utf-8'), 'html.parser')\n",
    "    business_containers = soup.find_all(\"div\", class_=\"result\")\n",
    "    # Iterate over each container to extract business name and URL\n",
    "    data = []\n",
    "    for container in business_containers:\n",
    "        business_name = \"\"\n",
    "        phone_num = \"\"\n",
    "        addr = \"\"\n",
    "        business_url = \"\"\n",
    "\n",
    "        try:\n",
    "            business_name_element = container.find(\"a\", class_=\"business-name\")\n",
    "            business_name = business_name_element.text\n",
    "        except Exception as e:\n",
    "            print(f\"Unable to parse Business Name. Error: {e}\")\n",
    "        \n",
    "        try:\n",
    "            phone_num_elem = container.find(\"a\", class_=\"phones phone primary\")\n",
    "            phone_num = phone_num_elem.text\n",
    "        except Exception as e:\n",
    "            print(f\"Unable to parse Phone number. Error: {e}\")\n",
    "        \n",
    "        # try:\n",
    "        #     addr_elem = container.find(\"div\", class_=\"street-address\")\n",
    "        #     addr = addr_elem.text\n",
    "        # except Exception as e:\n",
    "        #     print(f\"Unable to parse address. Error: {e}\")\n",
    "\n",
    "        try:    \n",
    "            business_url = \"https://www.superpages.com\" + business_name_element[\"href\"]\n",
    "        except Exception as e:\n",
    "            print(f\"Unable to parse business URL. Error: {e}\")\n",
    "        data.append([business_name, business_url, phone_num])\n",
    "\n",
    "    df = pd.DataFrame(columns=['business_name', 'business_url', 'phone_number'], data=data)\n",
    "\n",
    "    return df\n"
   ]
  },
  {
   "cell_type": "code",
   "execution_count": 12,
   "metadata": {},
   "outputs": [],
   "source": [
    "def get_multi_page_biz_data(key_word, loc, num_results) -> pd.DataFrame:\n",
    "    df = pd.DataFrame(columns=['business_name', 'business_url', 'phone_number'])\n",
    "    page_size = 20\n",
    "    while len(df) < num_results:\n",
    "        page_num = len(df) // page_size\n",
    "        print(f\"Scraping page {page_num}\")\n",
    "        page_data = get_biz_data(key_word, loc, page_num)\n",
    "        df = pd.concat([df, page_data], ignore_index=True)\n",
    "        \n",
    "\n",
    "        sleep_time = random.randint(1, 3)\n",
    "        time.sleep(sleep_time)\n",
    "    print(f\"Scraped {len(df)} results\")\n",
    "    return df "
   ]
  },
  {
   "cell_type": "code",
   "execution_count": 13,
   "metadata": {},
   "outputs": [
    {
     "name": "stdout",
     "output_type": "stream",
     "text": [
      "Scraping page 0\n",
      "Scraping URL: https://www.superpages.com/search?search_terms=Security+Camera+Installation&geo_location_terms=Washington&page=0\n",
      "Unable to parse Phone number. Error: 'NoneType' object has no attribute 'text'\n",
      "Unable to parse Phone number. Error: 'NoneType' object has no attribute 'text'\n",
      "Scraped 31 results\n"
     ]
    },
    {
     "data": {
      "text/html": [
       "<div>\n",
       "<style scoped>\n",
       "    .dataframe tbody tr th:only-of-type {\n",
       "        vertical-align: middle;\n",
       "    }\n",
       "\n",
       "    .dataframe tbody tr th {\n",
       "        vertical-align: top;\n",
       "    }\n",
       "\n",
       "    .dataframe thead th {\n",
       "        text-align: right;\n",
       "    }\n",
       "</style>\n",
       "<table border=\"1\" class=\"dataframe\">\n",
       "  <thead>\n",
       "    <tr style=\"text-align: right;\">\n",
       "      <th></th>\n",
       "      <th>business_name</th>\n",
       "      <th>business_url</th>\n",
       "      <th>phone_number</th>\n",
       "    </tr>\n",
       "  </thead>\n",
       "  <tbody>\n",
       "    <tr>\n",
       "      <th>0</th>\n",
       "      <td>ADT - Official Sales Center</td>\n",
       "      <td>https://www.superpages.comhttps://www.superpag...</td>\n",
       "      <td></td>\n",
       "    </tr>\n",
       "    <tr>\n",
       "      <th>1</th>\n",
       "      <td>Vivint</td>\n",
       "      <td>https://www.superpages.comhttps://www.superpag...</td>\n",
       "      <td></td>\n",
       "    </tr>\n",
       "    <tr>\n",
       "      <th>2</th>\n",
       "      <td>ADT - Official Sales Center</td>\n",
       "      <td>https://www.superpages.com/nationwide/bpp/adt-...</td>\n",
       "      <td>888-671-7048Call Now</td>\n",
       "    </tr>\n",
       "    <tr>\n",
       "      <th>3</th>\n",
       "      <td>ADT Security Services</td>\n",
       "      <td>https://www.superpages.com/nationwide/bpp/adt-...</td>\n",
       "      <td>800-270-4862Call Now</td>\n",
       "    </tr>\n",
       "    <tr>\n",
       "      <th>4</th>\n",
       "      <td>Vivint</td>\n",
       "      <td>https://www.superpages.com/nationwide/bpp/vivi...</td>\n",
       "      <td>833-200-4264Call Now</td>\n",
       "    </tr>\n",
       "  </tbody>\n",
       "</table>\n",
       "</div>"
      ],
      "text/plain": [
       "                 business_name  \\\n",
       "0  ADT - Official Sales Center   \n",
       "1                       Vivint   \n",
       "2  ADT - Official Sales Center   \n",
       "3        ADT Security Services   \n",
       "4                       Vivint   \n",
       "\n",
       "                                        business_url          phone_number  \n",
       "0  https://www.superpages.comhttps://www.superpag...                        \n",
       "1  https://www.superpages.comhttps://www.superpag...                        \n",
       "2  https://www.superpages.com/nationwide/bpp/adt-...  888-671-7048Call Now  \n",
       "3  https://www.superpages.com/nationwide/bpp/adt-...  800-270-4862Call Now  \n",
       "4  https://www.superpages.com/nationwide/bpp/vivi...  833-200-4264Call Now  "
      ]
     },
     "execution_count": 13,
     "metadata": {},
     "output_type": "execute_result"
    }
   ],
   "source": [
    "key_word: str = \"Security+Camera+Installation\"\n",
    "loc:str = \"Washington\"\n",
    "num_results = 10\n",
    "\n",
    "df = get_multi_page_biz_data(key_word, loc, num_results)\n",
    "df.head()"
   ]
  },
  {
   "cell_type": "code",
   "execution_count": 14,
   "metadata": {},
   "outputs": [
    {
     "name": "stdout",
     "output_type": "stream",
     "text": [
      "[31] Data saved to data/super_pages.csv\n"
     ]
    }
   ],
   "source": [
    "output_file_path:Path = Path('./data/super_pages.csv')\n",
    "if output_file_path.parent.exists() == False:\n",
    "    output_file_path.parent.mkdir(parents=True, exist_ok=True)    \n",
    "\n",
    "df.to_csv(output_file_path.as_posix(), index=False)\n",
    "print(f\"[{len(df)}] Data saved to {output_file_path.as_posix()}\")"
   ]
  },
  {
   "cell_type": "code",
   "execution_count": null,
   "metadata": {},
   "outputs": [],
   "source": []
  },
  {
   "cell_type": "code",
   "execution_count": null,
   "metadata": {},
   "outputs": [],
   "source": []
  },
  {
   "cell_type": "code",
   "execution_count": null,
   "metadata": {},
   "outputs": [],
   "source": []
  },
  {
   "cell_type": "code",
   "execution_count": null,
   "metadata": {},
   "outputs": [],
   "source": []
  }
 ],
 "metadata": {
  "kernelspec": {
   "display_name": "yelp_crawler",
   "language": "python",
   "name": "python3"
  },
  "language_info": {
   "codemirror_mode": {
    "name": "ipython",
    "version": 3
   },
   "file_extension": ".py",
   "mimetype": "text/x-python",
   "name": "python",
   "nbconvert_exporter": "python",
   "pygments_lexer": "ipython3",
   "version": "3.10.14"
  }
 },
 "nbformat": 4,
 "nbformat_minor": 2
}
